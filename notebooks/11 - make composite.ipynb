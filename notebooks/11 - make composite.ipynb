{
 "cells": [
  {
   "cell_type": "code",
   "execution_count": 1,
   "id": "18ef7cda-f5be-48d1-8368-90d04efd636f",
   "metadata": {},
   "outputs": [],
   "source": [
    "import os\n",
    "import numpy as np\n",
    "import geopandas as gpd\n",
    "import pandas as pd\n",
    "from joblib import Parallel, delayed\n",
    "import shapely as sh\n",
    "from shapely import wkt\n",
    "from pyproj import CRS\n",
    "from progressbar import progressbar as pbar\n",
    "import rasterio\n",
    "import geoplot as gplt\n",
    "import matplotlib as mpl\n",
    "from rlxutils import subplots\n",
    "epsg4326 = CRS.from_epsg(4326)\n",
    "import matplotlib.pyplot as plt"
   ]
  },
  {
   "cell_type": "code",
   "execution_count": 56,
   "id": "07cd80ea-1747-4b83-b88d-ef09ce4d3e98",
   "metadata": {},
   "outputs": [],
   "source": [
    "chipsets_file = \"/opt/earthdata/chipsets-definitions.parquet\"\n",
    "basedir = \"/opt/earthdata/chipsets\"\n",
    "dataset = \"s1counts-2022\""
   ]
  },
  {
   "cell_type": "code",
   "execution_count": 57,
   "id": "cc3a6640-9eaa-42ce-aaf1-df953f5a89e0",
   "metadata": {},
   "outputs": [
    {
     "data": {
      "text/plain": [
       "(1005, 1)"
      ]
     },
     "execution_count": 57,
     "metadata": {},
     "output_type": "execute_result"
    }
   ],
   "source": [
    "cs = gpd.read_parquet(chipsets_file)\n",
    "cs.shape"
   ]
  },
  {
   "cell_type": "code",
   "execution_count": 58,
   "id": "34c1e1ee-c830-4df9-8fc4-1b8f578e76a1",
   "metadata": {},
   "outputs": [],
   "source": [
    "level_files = [f for f in os.listdir(\"../data\") if f.startswith(\"luxembourg\") and f.endswith(\".wkt\") and \"_L\" in f]"
   ]
  },
  {
   "cell_type": "code",
   "execution_count": 59,
   "id": "14db950d-8dd2-4e94-be83-a06e8540a8c4",
   "metadata": {},
   "outputs": [],
   "source": [
    "levels = {}\n",
    "for level_file in level_files:\n",
    "    with open(f\"../data/{level_file}\") as f:\n",
    "        s = wkt.load(f)\n",
    "    levels[level_file.split(\".\")[0].split(\"_\")[-1]] = s"
   ]
  },
  {
   "cell_type": "code",
   "execution_count": 60,
   "id": "cbae3372-4641-4f93-81fd-2d94e79b3327",
   "metadata": {},
   "outputs": [
    {
     "data": {
      "text/html": [
       "<div>\n",
       "<style scoped>\n",
       "    .dataframe tbody tr th:only-of-type {\n",
       "        vertical-align: middle;\n",
       "    }\n",
       "\n",
       "    .dataframe tbody tr th {\n",
       "        vertical-align: top;\n",
       "    }\n",
       "\n",
       "    .dataframe thead th {\n",
       "        text-align: right;\n",
       "    }\n",
       "</style>\n",
       "<table border=\"1\" class=\"dataframe\">\n",
       "  <thead>\n",
       "    <tr style=\"text-align: right;\">\n",
       "      <th></th>\n",
       "      <th>geometry</th>\n",
       "    </tr>\n",
       "    <tr>\n",
       "      <th>tile_id</th>\n",
       "      <th></th>\n",
       "    </tr>\n",
       "  </thead>\n",
       "  <tbody>\n",
       "    <tr>\n",
       "      <th>25cffb64f0953</th>\n",
       "      <td>POLYGON ((0.00000 49.35156, 0.00481 49.35306, ...</td>\n",
       "    </tr>\n",
       "    <tr>\n",
       "      <th>142f3a38257ca</th>\n",
       "      <td>MULTIPOLYGON (((0.00000 53.56041, 0.01059 53.5...</td>\n",
       "    </tr>\n",
       "    <tr>\n",
       "      <th>28c7b4b0200d2</th>\n",
       "      <td>POLYGON ((5.00000 50.00000, 10.00000 50.00000,...</td>\n",
       "    </tr>\n",
       "    <tr>\n",
       "      <th>19f5ef11e7a2a</th>\n",
       "      <td>MULTIPOLYGON (((5.00000 52.96047, 5.03550 52.9...</td>\n",
       "    </tr>\n",
       "    <tr>\n",
       "      <th>27279556b1c94</th>\n",
       "      <td>MULTIPOLYGON (((10.00000 50.00000, 15.00000 50...</td>\n",
       "    </tr>\n",
       "    <tr>\n",
       "      <th>192735d71fee9</th>\n",
       "      <td>MULTIPOLYGON (((10.00000 54.49856, 10.12192 54...</td>\n",
       "    </tr>\n",
       "  </tbody>\n",
       "</table>\n",
       "</div>"
      ],
      "text/plain": [
       "                                                        geometry\n",
       "tile_id                                                         \n",
       "25cffb64f0953  POLYGON ((0.00000 49.35156, 0.00481 49.35306, ...\n",
       "142f3a38257ca  MULTIPOLYGON (((0.00000 53.56041, 0.01059 53.5...\n",
       "28c7b4b0200d2  POLYGON ((5.00000 50.00000, 10.00000 50.00000,...\n",
       "19f5ef11e7a2a  MULTIPOLYGON (((5.00000 52.96047, 5.03550 52.9...\n",
       "27279556b1c94  MULTIPOLYGON (((10.00000 50.00000, 15.00000 50...\n",
       "192735d71fee9  MULTIPOLYGON (((10.00000 54.49856, 10.12192 54..."
      ]
     },
     "execution_count": 60,
     "metadata": {},
     "output_type": "execute_result"
    }
   ],
   "source": [
    "all_levels = sh.ops.unary_union(list(levels.values()))\n",
    "luxc = cs[[gi.intersects(all_levels) for gi in cs.geometry]]\n",
    "luxc"
   ]
  },
  {
   "cell_type": "code",
   "execution_count": 61,
   "id": "76992630-101e-438a-b7b5-41167521c5b3",
   "metadata": {},
   "outputs": [],
   "source": [
    "cc = c"
   ]
  },
  {
   "cell_type": "code",
   "execution_count": 62,
   "id": "98010ace-b691-4b93-8c70-b5f6bba5d6d2",
   "metadata": {},
   "outputs": [
    {
     "name": "stderr",
     "output_type": "stream",
     "text": [
      "\u001b[38;2;0;255;0m100%\u001b[39m \u001b[38;2;0;255;0m(6 of 6)\u001b[39m |##########################| Elapsed Time: 0:00:07 Time:  0:00:070:01\n"
     ]
    }
   ],
   "source": [
    "# load chipsets and check chips downloaded\n",
    "chips = {}\n",
    "for chipset_id in pbar(luxc.index):\n",
    "    #if not '19273' in chipset_id:\n",
    "    #    continue\n",
    "    chipset_defs_file = [f for f in os.listdir(basedir) if chipset_id in f and f.endswith('.geojson')][0]\n",
    "    chipset_defs_filepath = f\"{basedir}/{chipset_defs_file}\"\n",
    "    dataset_folder = chipset_defs_filepath[:-8] + \"/\" + dataset\n",
    "    c = gpd.read_file(chipset_defs_filepath)\n",
    "    c['dataset_folder'] = dataset_folder\n",
    "    c['downloaded'] = [os.path.isfile(f\"{dataset_folder}/{identifier}.tif\") for identifier in c.identifier]\n",
    "    chips[chipset_id] = c\n",
    "    "
   ]
  },
  {
   "cell_type": "code",
   "execution_count": 51,
   "id": "6bfb6c7d-1fac-4dd6-acbf-fb536664a6f5",
   "metadata": {},
   "outputs": [
    {
     "name": "stdout",
     "output_type": "stream",
     "text": [
      "ls: cannot access '/opt/earthdata/chipsets/192735d71fee9_partitions_aschips_23e56e19be562/s1grdo-202201': No such file or directory\n",
      "      0       0       0\n"
     ]
    }
   ],
   "source": [
    "!ls $dataset_folder|wc"
   ]
  },
  {
   "cell_type": "code",
   "execution_count": 52,
   "id": "bc6f7e5e-59b1-47b9-890e-561045e700a2",
   "metadata": {},
   "outputs": [
    {
     "data": {
      "text/plain": [
       "88"
      ]
     },
     "execution_count": 52,
     "metadata": {},
     "output_type": "execute_result"
    }
   ],
   "source": [
    "c = pd.concat(chips.values())\n",
    "c.downloaded.sum()"
   ]
  },
  {
   "cell_type": "code",
   "execution_count": 53,
   "id": "55a4d305-af16-4998-88ae-961088f48b09",
   "metadata": {},
   "outputs": [
    {
     "data": {
      "text/html": [
       "<div>\n",
       "<style scoped>\n",
       "    .dataframe tbody tr th:only-of-type {\n",
       "        vertical-align: middle;\n",
       "    }\n",
       "\n",
       "    .dataframe tbody tr th {\n",
       "        vertical-align: top;\n",
       "    }\n",
       "\n",
       "    .dataframe thead th {\n",
       "        text-align: right;\n",
       "    }\n",
       "</style>\n",
       "<table border=\"1\" class=\"dataframe\">\n",
       "  <thead>\n",
       "    <tr style=\"text-align: right;\">\n",
       "      <th></th>\n",
       "      <th>area_km2</th>\n",
       "      <th>identifier</th>\n",
       "      <th>group</th>\n",
       "      <th>geometry</th>\n",
       "      <th>dataset_folder</th>\n",
       "      <th>downloaded</th>\n",
       "    </tr>\n",
       "  </thead>\n",
       "  <tbody>\n",
       "    <tr>\n",
       "      <th>1</th>\n",
       "      <td>26.240204</td>\n",
       "      <td>0a1aec282d4b8</td>\n",
       "      <td>0</td>\n",
       "      <td>POLYGON ((-0.03375 45.00111, -0.03375 45.04719...</td>\n",
       "      <td>/opt/earthdata/chipsets/25cffb64f0953_partitio...</td>\n",
       "      <td>False</td>\n",
       "    </tr>\n",
       "  </tbody>\n",
       "</table>\n",
       "</div>"
      ],
      "text/plain": [
       "    area_km2     identifier group  \\\n",
       "1  26.240204  0a1aec282d4b8     0   \n",
       "\n",
       "                                            geometry  \\\n",
       "1  POLYGON ((-0.03375 45.00111, -0.03375 45.04719...   \n",
       "\n",
       "                                      dataset_folder  downloaded  \n",
       "1  /opt/earthdata/chipsets/25cffb64f0953_partitio...       False  "
      ]
     },
     "execution_count": 53,
     "metadata": {},
     "output_type": "execute_result"
    }
   ],
   "source": [
    "c[c.identifier=='0a1aec282d4b8']"
   ]
  },
  {
   "cell_type": "code",
   "execution_count": 54,
   "id": "5163f9ca-138e-40c2-88bd-a12cd0d77bd1",
   "metadata": {},
   "outputs": [
    {
     "data": {
      "text/plain": [
       "dataset_folder\n",
       "/opt/earthdata/chipsets/28c7b4b0200d2_partitions_aschips_37a99155eb305/s1grdo-202201    74\n",
       "/opt/earthdata/chipsets/19f5ef11e7a2a_partitions_aschips_074be7bb83d5c/s1grdo-202201    14\n",
       "Name: count, dtype: int64"
      ]
     },
     "execution_count": 54,
     "metadata": {},
     "output_type": "execute_result"
    }
   ],
   "source": [
    "c[c.downloaded].dataset_folder.value_counts()"
   ]
  },
  {
   "cell_type": "code",
   "execution_count": null,
   "id": "d013e7e1-94b0-45ad-8094-6b9ad9e12f41",
   "metadata": {},
   "outputs": [
    {
     "name": "stderr",
     "output_type": "stream",
     "text": [
      "/ |#                                                  | 0 Elapsed Time: 0:00:00"
     ]
    },
    {
     "ename": "RasterioIOError",
     "evalue": "/opt/earthdata/chipsets/192735d71fee9_partitions_aschips_23e56e19be562/s1grdo-202201/2a1375d66097c.tif: No such file or directory",
     "output_type": "error",
     "traceback": [
      "\u001b[0;31m---------------------------------------------------------------------------\u001b[0m",
      "\u001b[0;31mCPLE_OpenFailedError\u001b[0m                      Traceback (most recent call last)",
      "File \u001b[0;32mrasterio/_base.pyx:310\u001b[0m, in \u001b[0;36mrasterio._base.DatasetBase.__init__\u001b[0;34m()\u001b[0m\n",
      "File \u001b[0;32mrasterio/_base.pyx:221\u001b[0m, in \u001b[0;36mrasterio._base.open_dataset\u001b[0;34m()\u001b[0m\n",
      "File \u001b[0;32mrasterio/_err.pyx:221\u001b[0m, in \u001b[0;36mrasterio._err.exc_wrap_pointer\u001b[0;34m()\u001b[0m\n",
      "\u001b[0;31mCPLE_OpenFailedError\u001b[0m: /opt/earthdata/chipsets/192735d71fee9_partitions_aschips_23e56e19be562/s1grdo-202201/2a1375d66097c.tif: No such file or directory",
      "\nDuring handling of the above exception, another exception occurred:\n",
      "\u001b[0;31mRasterioIOError\u001b[0m                           Traceback (most recent call last)",
      "Cell \u001b[0;32mIn[55], line 13\u001b[0m\n\u001b[1;32m     11\u001b[0m         z\u001b[38;5;241m.\u001b[39mappend(rrow)\n\u001b[1;32m     12\u001b[0m     \u001b[38;5;28;01mexcept\u001b[39;00m \u001b[38;5;167;01mException\u001b[39;00m \u001b[38;5;28;01mas\u001b[39;00m e:\n\u001b[0;32m---> 13\u001b[0m         \u001b[38;5;28;01mraise\u001b[39;00m e\n\u001b[1;32m     14\u001b[0m z \u001b[38;5;241m=\u001b[39m gpd\u001b[38;5;241m.\u001b[39mGeoDataFrame(z, crs\u001b[38;5;241m=\u001b[39mepsg4326)\n\u001b[1;32m     15\u001b[0m z\u001b[38;5;241m.\u001b[39mshape\n",
      "Cell \u001b[0;32mIn[55], line 7\u001b[0m\n\u001b[1;32m      5\u001b[0m     ads\n\u001b[1;32m      6\u001b[0m \u001b[38;5;28;01mtry\u001b[39;00m:\n\u001b[0;32m----> 7\u001b[0m     \u001b[38;5;28;01mwith\u001b[39;00m \u001b[43mrasterio\u001b[49m\u001b[38;5;241;43m.\u001b[39;49m\u001b[43mopen\u001b[49m\u001b[43m(\u001b[49m\u001b[43mchip_file\u001b[49m\u001b[43m)\u001b[49m \u001b[38;5;28;01mas\u001b[39;00m rf:\n\u001b[1;32m      8\u001b[0m         x \u001b[38;5;241m=\u001b[39m rf\u001b[38;5;241m.\u001b[39mread()\n\u001b[1;32m      9\u001b[0m         rrow \u001b[38;5;241m=\u001b[39m {k:v \u001b[38;5;28;01mfor\u001b[39;00m k,v \u001b[38;5;129;01min\u001b[39;00m \u001b[38;5;28mzip\u001b[39m(rf\u001b[38;5;241m.\u001b[39mdescriptions, x\u001b[38;5;241m.\u001b[39mmean(axis\u001b[38;5;241m=\u001b[39m\u001b[38;5;241m1\u001b[39m)\u001b[38;5;241m.\u001b[39mmean(axis\u001b[38;5;241m=\u001b[39m\u001b[38;5;241m1\u001b[39m)\u001b[38;5;241m.\u001b[39mastype(\u001b[38;5;28mint\u001b[39m))}\n",
      "File \u001b[0;32m/opt/conda/envs/earthdata/lib/python3.11/site-packages/rasterio/env.py:451\u001b[0m, in \u001b[0;36mensure_env_with_credentials.<locals>.wrapper\u001b[0;34m(*args, **kwds)\u001b[0m\n\u001b[1;32m    448\u001b[0m     session \u001b[38;5;241m=\u001b[39m DummySession()\n\u001b[1;32m    450\u001b[0m \u001b[38;5;28;01mwith\u001b[39;00m env_ctor(session\u001b[38;5;241m=\u001b[39msession):\n\u001b[0;32m--> 451\u001b[0m     \u001b[38;5;28;01mreturn\u001b[39;00m \u001b[43mf\u001b[49m\u001b[43m(\u001b[49m\u001b[38;5;241;43m*\u001b[39;49m\u001b[43margs\u001b[49m\u001b[43m,\u001b[49m\u001b[43m \u001b[49m\u001b[38;5;241;43m*\u001b[39;49m\u001b[38;5;241;43m*\u001b[39;49m\u001b[43mkwds\u001b[49m\u001b[43m)\u001b[49m\n",
      "File \u001b[0;32m/opt/conda/envs/earthdata/lib/python3.11/site-packages/rasterio/__init__.py:304\u001b[0m, in \u001b[0;36mopen\u001b[0;34m(fp, mode, driver, width, height, count, crs, transform, dtype, nodata, sharing, **kwargs)\u001b[0m\n\u001b[1;32m    301\u001b[0m path \u001b[38;5;241m=\u001b[39m _parse_path(raw_dataset_path)\n\u001b[1;32m    303\u001b[0m \u001b[38;5;28;01mif\u001b[39;00m mode \u001b[38;5;241m==\u001b[39m \u001b[38;5;124m\"\u001b[39m\u001b[38;5;124mr\u001b[39m\u001b[38;5;124m\"\u001b[39m:\n\u001b[0;32m--> 304\u001b[0m     dataset \u001b[38;5;241m=\u001b[39m \u001b[43mDatasetReader\u001b[49m\u001b[43m(\u001b[49m\u001b[43mpath\u001b[49m\u001b[43m,\u001b[49m\u001b[43m \u001b[49m\u001b[43mdriver\u001b[49m\u001b[38;5;241;43m=\u001b[39;49m\u001b[43mdriver\u001b[49m\u001b[43m,\u001b[49m\u001b[43m \u001b[49m\u001b[43msharing\u001b[49m\u001b[38;5;241;43m=\u001b[39;49m\u001b[43msharing\u001b[49m\u001b[43m,\u001b[49m\u001b[43m \u001b[49m\u001b[38;5;241;43m*\u001b[39;49m\u001b[38;5;241;43m*\u001b[39;49m\u001b[43mkwargs\u001b[49m\u001b[43m)\u001b[49m\n\u001b[1;32m    305\u001b[0m \u001b[38;5;28;01melif\u001b[39;00m mode \u001b[38;5;241m==\u001b[39m \u001b[38;5;124m\"\u001b[39m\u001b[38;5;124mr+\u001b[39m\u001b[38;5;124m\"\u001b[39m:\n\u001b[1;32m    306\u001b[0m     dataset \u001b[38;5;241m=\u001b[39m get_writer_for_path(path, driver\u001b[38;5;241m=\u001b[39mdriver)(\n\u001b[1;32m    307\u001b[0m         path, mode, driver\u001b[38;5;241m=\u001b[39mdriver, sharing\u001b[38;5;241m=\u001b[39msharing, \u001b[38;5;241m*\u001b[39m\u001b[38;5;241m*\u001b[39mkwargs\n\u001b[1;32m    308\u001b[0m     )\n",
      "File \u001b[0;32mrasterio/_base.pyx:312\u001b[0m, in \u001b[0;36mrasterio._base.DatasetBase.__init__\u001b[0;34m()\u001b[0m\n",
      "\u001b[0;31mRasterioIOError\u001b[0m: /opt/earthdata/chipsets/192735d71fee9_partitions_aschips_23e56e19be562/s1grdo-202201/2a1375d66097c.tif: No such file or directory"
     ]
    }
   ],
   "source": [
    "z = []\n",
    "for _,row in pbar(c[c.downloaded].iterrows()):\n",
    "    chip_file = f\"{dataset_folder}/{row.identifier}.tif\"\n",
    "    if row.identifier=='0a1aec282d4b8':\n",
    "        ads\n",
    "    try:\n",
    "        with rasterio.open(chip_file) as rf:\n",
    "            x = rf.read()\n",
    "            rrow = {k:v for k,v in zip(rf.descriptions, x.mean(axis=1).mean(axis=1).astype(int))}\n",
    "        rrow['geometry'] = row.geometry.centroid    \n",
    "        z.append(rrow)\n",
    "    except Exception as e:\n",
    "        raise e\n",
    "z = gpd.GeoDataFrame(z, crs=epsg4326)\n",
    "z.shape"
   ]
  },
  {
   "cell_type": "code",
   "execution_count": 14,
   "id": "024f79c2-5fce-4a9d-8594-fde81893f2aa",
   "metadata": {},
   "outputs": [
    {
     "name": "stdout",
     "output_type": "stream",
     "text": [
      "ls: cannot access '/opt/earthdata/chipsets/192735d71fee9_partitions_aschips_23e56e19be562/s1count-2022/0a1aec282d4b8.tif': No such file or directory\n"
     ]
    }
   ],
   "source": [
    "!ls /opt/earthdata/chipsets/192735d71fee9_partitions_aschips_23e56e19be562/s1count-2022/0a1aec282d4b8.tif"
   ]
  },
  {
   "cell_type": "code",
   "execution_count": 199,
   "id": "fae80981-119f-4f11-a1d4-416604c61b66",
   "metadata": {},
   "outputs": [
    {
     "data": {
      "text/plain": [
       "(19152, 6)"
      ]
     },
     "execution_count": 199,
     "metadata": {},
     "output_type": "execute_result"
    }
   ],
   "source": [
    "c[c.downloaded].shape"
   ]
  },
  {
   "cell_type": "code",
   "execution_count": 201,
   "id": "b76c0755-9a96-4ade-b8b3-ca562fd297e1",
   "metadata": {},
   "outputs": [],
   "source": [
    "max_count = z[[col for col in z.columns if col!='geometry']].values.max()"
   ]
  },
  {
   "cell_type": "code",
   "execution_count": null,
   "id": "586cb500-4200-4045-b42f-a79fb7fd9b5a",
   "metadata": {},
   "outputs": [],
   "source": [
    "xy = np.r_[[list(gi.coords)[0] for gi in z.geometry.values]]\n",
    "\n",
    "\n",
    "for ax,col in pbar(subplots([col for col in z.columns if col!='geometry'], n_cols=8)):\n",
    "    plt.scatter(xy[:,0], xy[:,1], s=10, alpha=.5, c=z[col].values, cmap=plt.cm.cool, vmin=0, vmax=max_count)\n",
    "    plt.colorbar()\n",
    "    plt.axis('off')\n",
    "    plt.title(col)\n",
    "    "
   ]
  },
  {
   "cell_type": "code",
   "execution_count": 71,
   "id": "a928fbad-b58c-4c47-81cc-16434c381f0d",
   "metadata": {},
   "outputs": [],
   "source": [
    "x = rf.read()"
   ]
  },
  {
   "cell_type": "code",
   "execution_count": 83,
   "id": "c0ebb683-5124-4fdd-9de0-3dffb599ecf4",
   "metadata": {},
   "outputs": [],
   "source": [
    "rrow = {k:v for k,v in zip(rf.descriptions, x.mean(axis=1).mean(axis=1).astype(int))}\n",
    "rrow['geometry'] = row.geometry.centroid"
   ]
  },
  {
   "cell_type": "code",
   "execution_count": 78,
   "id": "f7a23fcc-f623-47d0-bb91-7722adf3da78",
   "metadata": {},
   "outputs": [
    {
     "data": {
      "text/plain": [
       "array([5, 5, 5, 5, 5, 5, 5, 5, 5, 4, 5, 4, 5, 4, 5, 4, 5, 5, 5, 5, 4, 5,\n",
       "       4, 5, 5, 4, 5, 4, 5, 4, 5, 4, 5, 4, 5, 4, 4, 5, 4, 5, 5, 5, 5, 5,\n",
       "       5, 5, 5, 5])"
      ]
     },
     "execution_count": 78,
     "metadata": {},
     "output_type": "execute_result"
    }
   ],
   "source": [
    "x.mean(axis=1).mean(axis=1).astype(int)"
   ]
  },
  {
   "cell_type": "code",
   "execution_count": 80,
   "id": "9c30a106-846a-4405-8154-48f1c1482f32",
   "metadata": {},
   "outputs": [
    {
     "data": {
      "image/svg+xml": [
       "<svg xmlns=\"http://www.w3.org/2000/svg\" xmlns:xlink=\"http://www.w3.org/1999/xlink\" width=\"100.0\" height=\"100.0\" viewBox=\"9.001628357517525 48.984332221820495 2.0 2.0\" preserveAspectRatio=\"xMinYMin meet\"><g transform=\"matrix(1,0,0,-1,0,99.96866444364099)\"><circle cx=\"10.001628357517525\" cy=\"49.984332221820495\" r=\"0.06\" stroke=\"#555555\" stroke-width=\"0.02\" fill=\"#66cc99\" opacity=\"0.6\" /></g></svg>"
      ],
      "text/plain": [
       "<POINT (10.002 49.984)>"
      ]
     },
     "execution_count": 80,
     "metadata": {},
     "output_type": "execute_result"
    }
   ],
   "source": [
    "row.geometry.centroid"
   ]
  },
  {
   "cell_type": "code",
   "execution_count": 66,
   "id": "279d098c-2083-42e7-92d5-322b80909e0f",
   "metadata": {},
   "outputs": [
    {
     "name": "stdout",
     "output_type": "stream",
     "text": [
      "/opt/earthdata/chipsets/192735d71fee9_partitions_aschips_23e56e19be562/s1count-2022/1c9eb1f046698.tif\n"
     ]
    }
   ],
   "source": [
    "!ls $chip_file"
   ]
  },
  {
   "cell_type": "code",
   "execution_count": null,
   "id": "cb78e9d1-9ae8-47e1-b201-cc1473fcc250",
   "metadata": {},
   "outputs": [],
   "source": [
    "c[c.downloaded].explore(style_kwds=dict(color=\"black\",weight=.5, opacity=.5, fillOpacity=.3))"
   ]
  },
  {
   "cell_type": "code",
   "execution_count": 223,
   "id": "0e09f559-931d-4ac0-8442-893bd6223154",
   "metadata": {},
   "outputs": [
    {
     "data": {
      "text/plain": [
       "'/opt/earthdata/chipsets/192735d71fee9_partitions_aschips_23e56e19be562/s1grd-2021'"
      ]
     },
     "execution_count": 223,
     "metadata": {},
     "output_type": "execute_result"
    }
   ],
   "source": [
    "dataset_folder"
   ]
  },
  {
   "cell_type": "code",
   "execution_count": 52,
   "id": "ce602a0b-e55c-4b10-991b-521b7c3348c0",
   "metadata": {},
   "outputs": [
    {
     "data": {
      "text/html": [
       "<div>\n",
       "<style scoped>\n",
       "    .dataframe tbody tr th:only-of-type {\n",
       "        vertical-align: middle;\n",
       "    }\n",
       "\n",
       "    .dataframe tbody tr th {\n",
       "        vertical-align: top;\n",
       "    }\n",
       "\n",
       "    .dataframe thead th {\n",
       "        text-align: right;\n",
       "    }\n",
       "</style>\n",
       "<table border=\"1\" class=\"dataframe\">\n",
       "  <thead>\n",
       "    <tr style=\"text-align: right;\">\n",
       "      <th></th>\n",
       "      <th>area_km2</th>\n",
       "      <th>identifier</th>\n",
       "      <th>group</th>\n",
       "      <th>geometry</th>\n",
       "    </tr>\n",
       "  </thead>\n",
       "  <tbody>\n",
       "    <tr>\n",
       "      <th>0</th>\n",
       "      <td>26.240088</td>\n",
       "      <td>0dc19ddf788ec</td>\n",
       "      <td>15</td>\n",
       "      <td>POLYGON ((-0.03132 44.95508, -0.03132 45.00117...</td>\n",
       "    </tr>\n",
       "    <tr>\n",
       "      <th>1</th>\n",
       "      <td>26.240204</td>\n",
       "      <td>0a1aec282d4b8</td>\n",
       "      <td>0</td>\n",
       "      <td>POLYGON ((-0.03375 45.00111, -0.03375 45.04719...</td>\n",
       "    </tr>\n",
       "    <tr>\n",
       "      <th>2</th>\n",
       "      <td>26.240320</td>\n",
       "      <td>04800a35413bc</td>\n",
       "      <td>0</td>\n",
       "      <td>POLYGON ((-0.03619 45.04714, -0.03619 45.09322...</td>\n",
       "    </tr>\n",
       "    <tr>\n",
       "      <th>3</th>\n",
       "      <td>26.240436</td>\n",
       "      <td>0054dde899256</td>\n",
       "      <td>8</td>\n",
       "      <td>POLYGON ((-0.03863 45.09316, -0.03863 45.13924...</td>\n",
       "    </tr>\n",
       "    <tr>\n",
       "      <th>4</th>\n",
       "      <td>26.240553</td>\n",
       "      <td>1f7a3f6590c10</td>\n",
       "      <td>16</td>\n",
       "      <td>POLYGON ((-0.04108 45.13919, -0.04108 45.18527...</td>\n",
       "    </tr>\n",
       "  </tbody>\n",
       "</table>\n",
       "</div>"
      ],
      "text/plain": [
       "    area_km2     identifier group  \\\n",
       "0  26.240088  0dc19ddf788ec    15   \n",
       "1  26.240204  0a1aec282d4b8     0   \n",
       "2  26.240320  04800a35413bc     0   \n",
       "3  26.240436  0054dde899256     8   \n",
       "4  26.240553  1f7a3f6590c10    16   \n",
       "\n",
       "                                            geometry  \n",
       "0  POLYGON ((-0.03132 44.95508, -0.03132 45.00117...  \n",
       "1  POLYGON ((-0.03375 45.00111, -0.03375 45.04719...  \n",
       "2  POLYGON ((-0.03619 45.04714, -0.03619 45.09322...  \n",
       "3  POLYGON ((-0.03863 45.09316, -0.03863 45.13924...  \n",
       "4  POLYGON ((-0.04108 45.13919, -0.04108 45.18527...  "
      ]
     },
     "execution_count": 52,
     "metadata": {},
     "output_type": "execute_result"
    }
   ],
   "source": [
    "cl.head()"
   ]
  },
  {
   "cell_type": "code",
   "execution_count": 54,
   "id": "d63853b4-ae98-4f93-82b7-434109e6b12f",
   "metadata": {},
   "outputs": [],
   "source": [
    "# find existing"
   ]
  },
  {
   "cell_type": "code",
   "execution_count": 53,
   "id": "083e26f5-20a4-4b0a-bca3-d555a1303c67",
   "metadata": {},
   "outputs": [
    {
     "data": {
      "text/plain": [
       "array(['0', '0,L0', '0,L1', '0,L2', '0,L3', '0,L4', '1', '1,L0', '1,L1',\n",
       "       '1,L2', '1,L3', '1,L4', '10', '10,L0', '10,L1', '10,L2', '10,L3',\n",
       "       '10,L4', '11', '11,L0', '11,L1', '11,L2', '11,L3', '11,L4', '12',\n",
       "       '12,L0', '12,L1', '12,L2', '12,L3', '12,L4', '13', '13,L0',\n",
       "       '13,L1', '13,L2', '13,L3', '13,L4', '14', '14,L0', '14,L1',\n",
       "       '14,L2', '14,L3', '14,L4', '15', '15,L0', '15,L1', '15,L2',\n",
       "       '15,L3', '15,L4', '16', '16,L0', '16,L1', '16,L2', '16,L3',\n",
       "       '16,L4', '17', '17,L0', '17,L1', '17,L2', '17,L3', '17,L4', '18',\n",
       "       '18,L0', '18,L1', '18,L2', '18,L3', '18,L4', '19', '19,L0',\n",
       "       '19,L1', '19,L2', '19,L3', '19,L4', '2', '2,L0', '2,L1', '2,L2',\n",
       "       '2,L3', '2,L4', '3', '3,L0', '3,L1', '3,L2', '3,L3', '3,L4', '4',\n",
       "       '4,L0', '4,L1', '4,L2', '4,L3', '4,L4', '5', '5,L0', '5,L1',\n",
       "       '5,L2', '5,L3', '5,L4', '6', '6,L0', '6,L1', '6,L2', '6,L3',\n",
       "       '6,L4', '7', '7,L0', '7,L1', '7,L2', '7,L3', '7,L4', '8', '8,L0',\n",
       "       '8,L1', '8,L2', '8,L3', '8,L4', '9', '9,L0', '9,L1', '9,L2',\n",
       "       '9,L3', '9,L4'], dtype=object)"
      ]
     },
     "execution_count": 53,
     "metadata": {},
     "output_type": "execute_result"
    }
   ],
   "source": [
    "np.unique(cl.group.values)"
   ]
  },
  {
   "cell_type": "code",
   "execution_count": null,
   "id": "77539f82-3cdf-4dbc-857b-dec63b47bf08",
   "metadata": {},
   "outputs": [],
   "source": []
  },
  {
   "cell_type": "code",
   "execution_count": null,
   "id": "1f63fda0-3e46-4d7b-8be7-b450edc84460",
   "metadata": {},
   "outputs": [
    {
     "data": {
      "text/html": [
       "<div>\n",
       "<style scoped>\n",
       "    .dataframe tbody tr th:only-of-type {\n",
       "        vertical-align: middle;\n",
       "    }\n",
       "\n",
       "    .dataframe tbody tr th {\n",
       "        vertical-align: top;\n",
       "    }\n",
       "\n",
       "    .dataframe thead th {\n",
       "        text-align: right;\n",
       "    }\n",
       "</style>\n",
       "<table border=\"1\" class=\"dataframe\">\n",
       "  <thead>\n",
       "    <tr style=\"text-align: right;\">\n",
       "      <th></th>\n",
       "      <th>geometry</th>\n",
       "    </tr>\n",
       "    <tr>\n",
       "      <th>tile_id</th>\n",
       "      <th></th>\n",
       "    </tr>\n",
       "  </thead>\n",
       "  <tbody>\n",
       "    <tr>\n",
       "      <th>25cffb64f0953</th>\n",
       "      <td>POLYGON ((0.00000 49.35156, 0.00481 49.35306, ...</td>\n",
       "    </tr>\n",
       "    <tr>\n",
       "      <th>142f3a38257ca</th>\n",
       "      <td>MULTIPOLYGON (((0.00000 53.56041, 0.01059 53.5...</td>\n",
       "    </tr>\n",
       "    <tr>\n",
       "      <th>28c7b4b0200d2</th>\n",
       "      <td>POLYGON ((5.00000 50.00000, 10.00000 50.00000,...</td>\n",
       "    </tr>\n",
       "    <tr>\n",
       "      <th>19f5ef11e7a2a</th>\n",
       "      <td>MULTIPOLYGON (((5.00000 52.96047, 5.03550 52.9...</td>\n",
       "    </tr>\n",
       "    <tr>\n",
       "      <th>27279556b1c94</th>\n",
       "      <td>MULTIPOLYGON (((10.00000 50.00000, 15.00000 50...</td>\n",
       "    </tr>\n",
       "    <tr>\n",
       "      <th>192735d71fee9</th>\n",
       "      <td>MULTIPOLYGON (((10.00000 54.49856, 10.12192 54...</td>\n",
       "    </tr>\n",
       "  </tbody>\n",
       "</table>\n",
       "</div>"
      ],
      "text/plain": [
       "                                                        geometry\n",
       "tile_id                                                         \n",
       "25cffb64f0953  POLYGON ((0.00000 49.35156, 0.00481 49.35306, ...\n",
       "142f3a38257ca  MULTIPOLYGON (((0.00000 53.56041, 0.01059 53.5...\n",
       "28c7b4b0200d2  POLYGON ((5.00000 50.00000, 10.00000 50.00000,...\n",
       "19f5ef11e7a2a  MULTIPOLYGON (((5.00000 52.96047, 5.03550 52.9...\n",
       "27279556b1c94  MULTIPOLYGON (((10.00000 50.00000, 15.00000 50...\n",
       "192735d71fee9  MULTIPOLYGON (((10.00000 54.49856, 10.12192 54..."
      ]
     },
     "execution_count": 176,
     "metadata": {},
     "output_type": "execute_result"
    }
   ],
   "source": [
    "all_levels = sh.ops.unary_union(list(levels.values()))\n",
    "luxc = cs[[gi.intersects(all_levels) for gi in cs.geometry]]\n",
    "luxc"
   ]
  },
  {
   "cell_type": "code",
   "execution_count": null,
   "id": "0075fd93-9382-4428-a06e-98253e4e6553",
   "metadata": {},
   "outputs": [],
   "source": []
  },
  {
   "cell_type": "code",
   "execution_count": 242,
   "id": "bf37da48-a85a-41a7-a383-d8e8a4b049a8",
   "metadata": {
    "tags": []
   },
   "outputs": [
    {
     "name": "stdout",
     "output_type": "stream",
     "text": [
      "adding levels to 25cffb64f0953\n",
      "adding levels to 142f3a38257ca\n",
      "adding levels to 28c7b4b0200d2\n",
      "adding levels to 19f5ef11e7a2a\n",
      "adding levels to 27279556b1c94\n",
      "adding levels to 192735d71fee9\n"
     ]
    }
   ],
   "source": [
    "def chiplevel(geom, levels):\n",
    "    for l in sorted(list(levels.keys())):\n",
    "        if levels[l].intersects(geom):\n",
    "            return l\n",
    "    return None\n",
    "\n",
    "for chipset_id in luxc.index:\n",
    "    \n",
    "    print (f\"adding levels to {chipset_id}\")\n",
    "    \n",
    "    # look for defs file\n",
    "    chipset_defs_file = [f for f in os.listdir(basedir) if chipset_id in f and f.endswith('.geojson')]\n",
    "    if len(chipset_defs_file)==0:\n",
    "        raise ValueError(f\"could not file defs file for {chipset_id}\")\n",
    "    elif len(chipset_defs_file)>1:\n",
    "        raise ValueError(f\"too many defs files for {chipset_id}\")\n",
    "\n",
    "    chipset_defs_file = chipset_defs_file[0]\n",
    "    chipset_defs_file = f\"{basedir}/{chipset_defs_file}\"\n",
    "    c = gpd.read_file(chipset_defs_file)\n",
    "\n",
    "    \n",
    "    # add level groups if they havent been added already\n",
    "    c['level'] = [chiplevel(gi, levels) for gi in c.geometry.values]\n",
    "    newgroups = []\n",
    "    for _, row in c.iterrows():\n",
    "        lgroups = row.group.split(\",\")\n",
    "        if row.level is not None and not row.level in lgroups:\n",
    "            g = \",\".join(lgroups + [row.level])  \n",
    "        else:\n",
    "            g = row.group\n",
    "        newgroups.append(g)\n",
    "    c['group'] = newgroups\n",
    "    del(c['level'])\n"
   ]
  },
  {
   "cell_type": "code",
   "execution_count": 253,
   "id": "b98928ed-cc8f-488f-9b1c-28a839f2773c",
   "metadata": {},
   "outputs": [],
   "source": [
    "chipset_id = luxc.index[2]\n",
    "chipset_defs_file = [f for f in os.listdir(basedir) if chipset_id in f and f.endswith('.geojson')]\n",
    "if len(chipset_defs_file)==0:\n",
    "    raise ValueError(f\"could not file defs file for {chipset_id}\")\n",
    "elif len(chipset_defs_file)>1:\n",
    "    raise ValueError(f\"too many defs files for {chipset_id}\")\n",
    "\n",
    "chipset_defs_file = chipset_defs_file[0]\n",
    "chipset_defs_file = f\"{basedir}/{chipset_defs_file}\"\n",
    "c = gpd.read_file(chipset_defs_file)\n"
   ]
  },
  {
   "cell_type": "code",
   "execution_count": 254,
   "id": "59976d2d-8641-45a1-8ca3-fe9066bbc8d5",
   "metadata": {},
   "outputs": [],
   "source": [
    "c['color'] = [ gi.split(\",\")[1] if len(gi.split(\",\"))>1 else None for gi in c['group'].values]"
   ]
  },
  {
   "cell_type": "code",
   "execution_count": null,
   "id": "58985232-9718-4d46-a4d6-bae6426c7c7b",
   "metadata": {},
   "outputs": [],
   "source": []
  },
  {
   "cell_type": "code",
   "execution_count": null,
   "id": "bde46245-d971-4da6-a337-54ca407560dc",
   "metadata": {},
   "outputs": [],
   "source": [
    "c.explore(column='color')"
   ]
  },
  {
   "cell_type": "code",
   "execution_count": null,
   "id": "2e52d975-5342-45ac-a9df-a8554f4e5eae",
   "metadata": {},
   "outputs": [],
   "source": []
  }
 ],
 "metadata": {
  "kernelspec": {
   "display_name": "earthdata",
   "language": "python",
   "name": "earthdata"
  },
  "language_info": {
   "codemirror_mode": {
    "name": "ipython",
    "version": 3
   },
   "file_extension": ".py",
   "mimetype": "text/x-python",
   "name": "python",
   "nbconvert_exporter": "python",
   "pygments_lexer": "ipython3",
   "version": "3.11.9"
  }
 },
 "nbformat": 4,
 "nbformat_minor": 5
}
