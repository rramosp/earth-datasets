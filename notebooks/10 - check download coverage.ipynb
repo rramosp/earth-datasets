{
 "cells": [
  {
   "cell_type": "code",
   "execution_count": 42,
   "id": "18ef7cda-f5be-48d1-8368-90d04efd636f",
   "metadata": {},
   "outputs": [],
   "source": [
    "import os\n",
    "import numpy as np\n",
    "import geopandas as gpd\n",
    "import pandas as pd\n",
    "from joblib import Parallel, delayed\n",
    "import shapely as sh\n",
    "from shapely import wkt\n",
    "from pyproj import CRS\n",
    "from progressbar import progressbar as pbar\n",
    "epsg4326 = CRS.from_epsg(4326)"
   ]
  },
  {
   "cell_type": "code",
   "execution_count": 207,
   "id": "07cd80ea-1747-4b83-b88d-ef09ce4d3e98",
   "metadata": {},
   "outputs": [],
   "source": [
    "chipsets_file = \"/opt/earthdata/chipsets-definitions.parquet\"\n",
    "basedir = \"/opt/earthdata/chipsets\"\n",
    "dataset = \"s1grd-2021\""
   ]
  },
  {
   "cell_type": "code",
   "execution_count": 208,
   "id": "cc3a6640-9eaa-42ce-aaf1-df953f5a89e0",
   "metadata": {},
   "outputs": [
    {
     "data": {
      "text/plain": [
       "(1005, 1)"
      ]
     },
     "execution_count": 208,
     "metadata": {},
     "output_type": "execute_result"
    }
   ],
   "source": [
    "cs = gpd.read_parquet(chipsets_file)\n",
    "cs.shape"
   ]
  },
  {
   "cell_type": "code",
   "execution_count": 209,
   "id": "34c1e1ee-c830-4df9-8fc4-1b8f578e76a1",
   "metadata": {},
   "outputs": [],
   "source": [
    "level_files = [f for f in os.listdir(\"../data\") if f.startswith(\"luxembourg\") and f.endswith(\".wkt\") and \"_L\" in f]"
   ]
  },
  {
   "cell_type": "code",
   "execution_count": 210,
   "id": "14db950d-8dd2-4e94-be83-a06e8540a8c4",
   "metadata": {},
   "outputs": [],
   "source": [
    "levels = {}\n",
    "for level_file in level_files:\n",
    "    with open(f\"../data/{level_file}\") as f:\n",
    "        s = wkt.load(f)\n",
    "    levels[level_file.split(\".\")[0].split(\"_\")[-1]] = s"
   ]
  },
  {
   "cell_type": "code",
   "execution_count": null,
   "id": "51f34662-fe56-404b-95e3-5d6b578cae01",
   "metadata": {},
   "outputs": [],
   "source": [
    "z = {'geometry': [], 'level': []}\n",
    "for l in sorted(levels.keys()):\n",
    "    z['geometry'].append(levels[l])\n",
    "    z['level'].append(l)\n",
    "gpd.GeoDataFrame(z, crs=epsg4326).explore('level')"
   ]
  },
  {
   "cell_type": "code",
   "execution_count": 212,
   "id": "cbae3372-4641-4f93-81fd-2d94e79b3327",
   "metadata": {},
   "outputs": [
    {
     "data": {
      "text/html": [
       "<div>\n",
       "<style scoped>\n",
       "    .dataframe tbody tr th:only-of-type {\n",
       "        vertical-align: middle;\n",
       "    }\n",
       "\n",
       "    .dataframe tbody tr th {\n",
       "        vertical-align: top;\n",
       "    }\n",
       "\n",
       "    .dataframe thead th {\n",
       "        text-align: right;\n",
       "    }\n",
       "</style>\n",
       "<table border=\"1\" class=\"dataframe\">\n",
       "  <thead>\n",
       "    <tr style=\"text-align: right;\">\n",
       "      <th></th>\n",
       "      <th>geometry</th>\n",
       "    </tr>\n",
       "    <tr>\n",
       "      <th>tile_id</th>\n",
       "      <th></th>\n",
       "    </tr>\n",
       "  </thead>\n",
       "  <tbody>\n",
       "    <tr>\n",
       "      <th>25cffb64f0953</th>\n",
       "      <td>POLYGON ((0.00000 49.35156, 0.00481 49.35306, ...</td>\n",
       "    </tr>\n",
       "    <tr>\n",
       "      <th>142f3a38257ca</th>\n",
       "      <td>MULTIPOLYGON (((0.00000 53.56041, 0.01059 53.5...</td>\n",
       "    </tr>\n",
       "    <tr>\n",
       "      <th>28c7b4b0200d2</th>\n",
       "      <td>POLYGON ((5.00000 50.00000, 10.00000 50.00000,...</td>\n",
       "    </tr>\n",
       "    <tr>\n",
       "      <th>19f5ef11e7a2a</th>\n",
       "      <td>MULTIPOLYGON (((5.00000 52.96047, 5.03550 52.9...</td>\n",
       "    </tr>\n",
       "    <tr>\n",
       "      <th>27279556b1c94</th>\n",
       "      <td>MULTIPOLYGON (((10.00000 50.00000, 15.00000 50...</td>\n",
       "    </tr>\n",
       "    <tr>\n",
       "      <th>192735d71fee9</th>\n",
       "      <td>MULTIPOLYGON (((10.00000 54.49856, 10.12192 54...</td>\n",
       "    </tr>\n",
       "  </tbody>\n",
       "</table>\n",
       "</div>"
      ],
      "text/plain": [
       "                                                        geometry\n",
       "tile_id                                                         \n",
       "25cffb64f0953  POLYGON ((0.00000 49.35156, 0.00481 49.35306, ...\n",
       "142f3a38257ca  MULTIPOLYGON (((0.00000 53.56041, 0.01059 53.5...\n",
       "28c7b4b0200d2  POLYGON ((5.00000 50.00000, 10.00000 50.00000,...\n",
       "19f5ef11e7a2a  MULTIPOLYGON (((5.00000 52.96047, 5.03550 52.9...\n",
       "27279556b1c94  MULTIPOLYGON (((10.00000 50.00000, 15.00000 50...\n",
       "192735d71fee9  MULTIPOLYGON (((10.00000 54.49856, 10.12192 54..."
      ]
     },
     "execution_count": 212,
     "metadata": {},
     "output_type": "execute_result"
    }
   ],
   "source": [
    "all_levels = sh.ops.unary_union(list(levels.values()))\n",
    "luxc = cs[[gi.intersects(all_levels) for gi in cs.geometry]]\n",
    "luxc"
   ]
  },
  {
   "cell_type": "code",
   "execution_count": 213,
   "id": "98010ace-b691-4b93-8c70-b5f6bba5d6d2",
   "metadata": {},
   "outputs": [
    {
     "name": "stderr",
     "output_type": "stream",
     "text": [
      "\u001b[38;2;0;255;0m100%\u001b[39m \u001b[38;2;0;255;0m(6 of 6)\u001b[39m |##########################| Elapsed Time: 0:00:07 Time:  0:00:070:01\n"
     ]
    }
   ],
   "source": [
    "# load chipsets and check chips downloaded\n",
    "chips = {}\n",
    "for chipset_id in pbar(luxc.index):\n",
    "\n",
    "    chipset_defs_file = [f for f in os.listdir(basedir) if chipset_id in f and f.endswith('.geojson')][0]\n",
    "    chipset_defs_file = f\"{basedir}/{chipset_defs_file}\"\n",
    "    dataset_folder = chipset_defs_file[:-8] + \"/\" + dataset\n",
    "    c = gpd.read_file(chipset_defs_file)\n",
    "    c['downloaded'] = [os.path.isfile(f\"{dataset_folder}/{identifier}.tif\") for identifier in c.identifier]\n",
    "    chips[chipset_id] = c"
   ]
  },
  {
   "cell_type": "code",
   "execution_count": 214,
   "id": "9e2f63b6-2b5a-457d-b010-dd64787c65ae",
   "metadata": {},
   "outputs": [
    {
     "data": {
      "text/plain": [
       "dict_keys(['25cffb64f0953', '142f3a38257ca', '28c7b4b0200d2', '19f5ef11e7a2a', '27279556b1c94', '192735d71fee9'])"
      ]
     },
     "execution_count": 214,
     "metadata": {},
     "output_type": "execute_result"
    }
   ],
   "source": [
    "chips.keys()"
   ]
  },
  {
   "cell_type": "code",
   "execution_count": 215,
   "id": "bc6f7e5e-59b1-47b9-890e-561045e700a2",
   "metadata": {},
   "outputs": [
    {
     "data": {
      "text/plain": [
       "19256"
      ]
     },
     "execution_count": 215,
     "metadata": {},
     "output_type": "execute_result"
    }
   ],
   "source": [
    "c = pd.concat(chips.values())\n",
    "c.downloaded.sum()"
   ]
  },
  {
   "cell_type": "code",
   "execution_count": null,
   "id": "cb78e9d1-9ae8-47e1-b201-cc1473fcc250",
   "metadata": {},
   "outputs": [],
   "source": [
    "c[c.downloaded].explore(style_kwds=dict(color=\"black\",weight=.5, opacity=.5, fillOpacity=.3))"
   ]
  },
  {
   "cell_type": "code",
   "execution_count": 223,
   "id": "0e09f559-931d-4ac0-8442-893bd6223154",
   "metadata": {},
   "outputs": [
    {
     "data": {
      "text/plain": [
       "'/opt/earthdata/chipsets/192735d71fee9_partitions_aschips_23e56e19be562/s1grd-2021'"
      ]
     },
     "execution_count": 223,
     "metadata": {},
     "output_type": "execute_result"
    }
   ],
   "source": [
    "dataset_folder"
   ]
  },
  {
   "cell_type": "code",
   "execution_count": 52,
   "id": "ce602a0b-e55c-4b10-991b-521b7c3348c0",
   "metadata": {},
   "outputs": [
    {
     "data": {
      "text/html": [
       "<div>\n",
       "<style scoped>\n",
       "    .dataframe tbody tr th:only-of-type {\n",
       "        vertical-align: middle;\n",
       "    }\n",
       "\n",
       "    .dataframe tbody tr th {\n",
       "        vertical-align: top;\n",
       "    }\n",
       "\n",
       "    .dataframe thead th {\n",
       "        text-align: right;\n",
       "    }\n",
       "</style>\n",
       "<table border=\"1\" class=\"dataframe\">\n",
       "  <thead>\n",
       "    <tr style=\"text-align: right;\">\n",
       "      <th></th>\n",
       "      <th>area_km2</th>\n",
       "      <th>identifier</th>\n",
       "      <th>group</th>\n",
       "      <th>geometry</th>\n",
       "    </tr>\n",
       "  </thead>\n",
       "  <tbody>\n",
       "    <tr>\n",
       "      <th>0</th>\n",
       "      <td>26.240088</td>\n",
       "      <td>0dc19ddf788ec</td>\n",
       "      <td>15</td>\n",
       "      <td>POLYGON ((-0.03132 44.95508, -0.03132 45.00117...</td>\n",
       "    </tr>\n",
       "    <tr>\n",
       "      <th>1</th>\n",
       "      <td>26.240204</td>\n",
       "      <td>0a1aec282d4b8</td>\n",
       "      <td>0</td>\n",
       "      <td>POLYGON ((-0.03375 45.00111, -0.03375 45.04719...</td>\n",
       "    </tr>\n",
       "    <tr>\n",
       "      <th>2</th>\n",
       "      <td>26.240320</td>\n",
       "      <td>04800a35413bc</td>\n",
       "      <td>0</td>\n",
       "      <td>POLYGON ((-0.03619 45.04714, -0.03619 45.09322...</td>\n",
       "    </tr>\n",
       "    <tr>\n",
       "      <th>3</th>\n",
       "      <td>26.240436</td>\n",
       "      <td>0054dde899256</td>\n",
       "      <td>8</td>\n",
       "      <td>POLYGON ((-0.03863 45.09316, -0.03863 45.13924...</td>\n",
       "    </tr>\n",
       "    <tr>\n",
       "      <th>4</th>\n",
       "      <td>26.240553</td>\n",
       "      <td>1f7a3f6590c10</td>\n",
       "      <td>16</td>\n",
       "      <td>POLYGON ((-0.04108 45.13919, -0.04108 45.18527...</td>\n",
       "    </tr>\n",
       "  </tbody>\n",
       "</table>\n",
       "</div>"
      ],
      "text/plain": [
       "    area_km2     identifier group  \\\n",
       "0  26.240088  0dc19ddf788ec    15   \n",
       "1  26.240204  0a1aec282d4b8     0   \n",
       "2  26.240320  04800a35413bc     0   \n",
       "3  26.240436  0054dde899256     8   \n",
       "4  26.240553  1f7a3f6590c10    16   \n",
       "\n",
       "                                            geometry  \n",
       "0  POLYGON ((-0.03132 44.95508, -0.03132 45.00117...  \n",
       "1  POLYGON ((-0.03375 45.00111, -0.03375 45.04719...  \n",
       "2  POLYGON ((-0.03619 45.04714, -0.03619 45.09322...  \n",
       "3  POLYGON ((-0.03863 45.09316, -0.03863 45.13924...  \n",
       "4  POLYGON ((-0.04108 45.13919, -0.04108 45.18527...  "
      ]
     },
     "execution_count": 52,
     "metadata": {},
     "output_type": "execute_result"
    }
   ],
   "source": [
    "cl.head()"
   ]
  },
  {
   "cell_type": "code",
   "execution_count": 54,
   "id": "d63853b4-ae98-4f93-82b7-434109e6b12f",
   "metadata": {},
   "outputs": [],
   "source": [
    "# find existing"
   ]
  },
  {
   "cell_type": "code",
   "execution_count": 53,
   "id": "083e26f5-20a4-4b0a-bca3-d555a1303c67",
   "metadata": {},
   "outputs": [
    {
     "data": {
      "text/plain": [
       "array(['0', '0,L0', '0,L1', '0,L2', '0,L3', '0,L4', '1', '1,L0', '1,L1',\n",
       "       '1,L2', '1,L3', '1,L4', '10', '10,L0', '10,L1', '10,L2', '10,L3',\n",
       "       '10,L4', '11', '11,L0', '11,L1', '11,L2', '11,L3', '11,L4', '12',\n",
       "       '12,L0', '12,L1', '12,L2', '12,L3', '12,L4', '13', '13,L0',\n",
       "       '13,L1', '13,L2', '13,L3', '13,L4', '14', '14,L0', '14,L1',\n",
       "       '14,L2', '14,L3', '14,L4', '15', '15,L0', '15,L1', '15,L2',\n",
       "       '15,L3', '15,L4', '16', '16,L0', '16,L1', '16,L2', '16,L3',\n",
       "       '16,L4', '17', '17,L0', '17,L1', '17,L2', '17,L3', '17,L4', '18',\n",
       "       '18,L0', '18,L1', '18,L2', '18,L3', '18,L4', '19', '19,L0',\n",
       "       '19,L1', '19,L2', '19,L3', '19,L4', '2', '2,L0', '2,L1', '2,L2',\n",
       "       '2,L3', '2,L4', '3', '3,L0', '3,L1', '3,L2', '3,L3', '3,L4', '4',\n",
       "       '4,L0', '4,L1', '4,L2', '4,L3', '4,L4', '5', '5,L0', '5,L1',\n",
       "       '5,L2', '5,L3', '5,L4', '6', '6,L0', '6,L1', '6,L2', '6,L3',\n",
       "       '6,L4', '7', '7,L0', '7,L1', '7,L2', '7,L3', '7,L4', '8', '8,L0',\n",
       "       '8,L1', '8,L2', '8,L3', '8,L4', '9', '9,L0', '9,L1', '9,L2',\n",
       "       '9,L3', '9,L4'], dtype=object)"
      ]
     },
     "execution_count": 53,
     "metadata": {},
     "output_type": "execute_result"
    }
   ],
   "source": [
    "np.unique(cl.group.values)"
   ]
  },
  {
   "cell_type": "code",
   "execution_count": null,
   "id": "77539f82-3cdf-4dbc-857b-dec63b47bf08",
   "metadata": {},
   "outputs": [],
   "source": []
  },
  {
   "cell_type": "code",
   "execution_count": null,
   "id": "1f63fda0-3e46-4d7b-8be7-b450edc84460",
   "metadata": {},
   "outputs": [
    {
     "data": {
      "text/html": [
       "<div>\n",
       "<style scoped>\n",
       "    .dataframe tbody tr th:only-of-type {\n",
       "        vertical-align: middle;\n",
       "    }\n",
       "\n",
       "    .dataframe tbody tr th {\n",
       "        vertical-align: top;\n",
       "    }\n",
       "\n",
       "    .dataframe thead th {\n",
       "        text-align: right;\n",
       "    }\n",
       "</style>\n",
       "<table border=\"1\" class=\"dataframe\">\n",
       "  <thead>\n",
       "    <tr style=\"text-align: right;\">\n",
       "      <th></th>\n",
       "      <th>geometry</th>\n",
       "    </tr>\n",
       "    <tr>\n",
       "      <th>tile_id</th>\n",
       "      <th></th>\n",
       "    </tr>\n",
       "  </thead>\n",
       "  <tbody>\n",
       "    <tr>\n",
       "      <th>25cffb64f0953</th>\n",
       "      <td>POLYGON ((0.00000 49.35156, 0.00481 49.35306, ...</td>\n",
       "    </tr>\n",
       "    <tr>\n",
       "      <th>142f3a38257ca</th>\n",
       "      <td>MULTIPOLYGON (((0.00000 53.56041, 0.01059 53.5...</td>\n",
       "    </tr>\n",
       "    <tr>\n",
       "      <th>28c7b4b0200d2</th>\n",
       "      <td>POLYGON ((5.00000 50.00000, 10.00000 50.00000,...</td>\n",
       "    </tr>\n",
       "    <tr>\n",
       "      <th>19f5ef11e7a2a</th>\n",
       "      <td>MULTIPOLYGON (((5.00000 52.96047, 5.03550 52.9...</td>\n",
       "    </tr>\n",
       "    <tr>\n",
       "      <th>27279556b1c94</th>\n",
       "      <td>MULTIPOLYGON (((10.00000 50.00000, 15.00000 50...</td>\n",
       "    </tr>\n",
       "    <tr>\n",
       "      <th>192735d71fee9</th>\n",
       "      <td>MULTIPOLYGON (((10.00000 54.49856, 10.12192 54...</td>\n",
       "    </tr>\n",
       "  </tbody>\n",
       "</table>\n",
       "</div>"
      ],
      "text/plain": [
       "                                                        geometry\n",
       "tile_id                                                         \n",
       "25cffb64f0953  POLYGON ((0.00000 49.35156, 0.00481 49.35306, ...\n",
       "142f3a38257ca  MULTIPOLYGON (((0.00000 53.56041, 0.01059 53.5...\n",
       "28c7b4b0200d2  POLYGON ((5.00000 50.00000, 10.00000 50.00000,...\n",
       "19f5ef11e7a2a  MULTIPOLYGON (((5.00000 52.96047, 5.03550 52.9...\n",
       "27279556b1c94  MULTIPOLYGON (((10.00000 50.00000, 15.00000 50...\n",
       "192735d71fee9  MULTIPOLYGON (((10.00000 54.49856, 10.12192 54..."
      ]
     },
     "execution_count": 176,
     "metadata": {},
     "output_type": "execute_result"
    }
   ],
   "source": [
    "all_levels = sh.ops.unary_union(list(levels.values()))\n",
    "luxc = cs[[gi.intersects(all_levels) for gi in cs.geometry]]\n",
    "luxc"
   ]
  },
  {
   "cell_type": "code",
   "execution_count": null,
   "id": "0075fd93-9382-4428-a06e-98253e4e6553",
   "metadata": {},
   "outputs": [],
   "source": []
  },
  {
   "cell_type": "code",
   "execution_count": 242,
   "id": "bf37da48-a85a-41a7-a383-d8e8a4b049a8",
   "metadata": {
    "tags": []
   },
   "outputs": [
    {
     "name": "stdout",
     "output_type": "stream",
     "text": [
      "adding levels to 25cffb64f0953\n",
      "adding levels to 142f3a38257ca\n",
      "adding levels to 28c7b4b0200d2\n",
      "adding levels to 19f5ef11e7a2a\n",
      "adding levels to 27279556b1c94\n",
      "adding levels to 192735d71fee9\n"
     ]
    }
   ],
   "source": [
    "def chiplevel(geom, levels):\n",
    "    for l in sorted(list(levels.keys())):\n",
    "        if levels[l].intersects(geom):\n",
    "            return l\n",
    "    return None\n",
    "\n",
    "for chipset_id in luxc.index:\n",
    "    \n",
    "    print (f\"adding levels to {chipset_id}\")\n",
    "    \n",
    "    # look for defs file\n",
    "    chipset_defs_file = [f for f in os.listdir(basedir) if chipset_id in f and f.endswith('.geojson')]\n",
    "    if len(chipset_defs_file)==0:\n",
    "        raise ValueError(f\"could not file defs file for {chipset_id}\")\n",
    "    elif len(chipset_defs_file)>1:\n",
    "        raise ValueError(f\"too many defs files for {chipset_id}\")\n",
    "\n",
    "    chipset_defs_file = chipset_defs_file[0]\n",
    "    chipset_defs_file = f\"{basedir}/{chipset_defs_file}\"\n",
    "    c = gpd.read_file(chipset_defs_file)\n",
    "\n",
    "    \n",
    "    # add level groups if they havent been added already\n",
    "    c['level'] = [chiplevel(gi, levels) for gi in c.geometry.values]\n",
    "    newgroups = []\n",
    "    for _, row in c.iterrows():\n",
    "        lgroups = row.group.split(\",\")\n",
    "        if row.level is not None and not row.level in lgroups:\n",
    "            g = \",\".join(lgroups + [row.level])  \n",
    "        else:\n",
    "            g = row.group\n",
    "        newgroups.append(g)\n",
    "    c['group'] = newgroups\n",
    "    del(c['level'])\n"
   ]
  },
  {
   "cell_type": "code",
   "execution_count": 253,
   "id": "b98928ed-cc8f-488f-9b1c-28a839f2773c",
   "metadata": {},
   "outputs": [],
   "source": [
    "chipset_id = luxc.index[2]\n",
    "chipset_defs_file = [f for f in os.listdir(basedir) if chipset_id in f and f.endswith('.geojson')]\n",
    "if len(chipset_defs_file)==0:\n",
    "    raise ValueError(f\"could not file defs file for {chipset_id}\")\n",
    "elif len(chipset_defs_file)>1:\n",
    "    raise ValueError(f\"too many defs files for {chipset_id}\")\n",
    "\n",
    "chipset_defs_file = chipset_defs_file[0]\n",
    "chipset_defs_file = f\"{basedir}/{chipset_defs_file}\"\n",
    "c = gpd.read_file(chipset_defs_file)\n"
   ]
  },
  {
   "cell_type": "code",
   "execution_count": 254,
   "id": "59976d2d-8641-45a1-8ca3-fe9066bbc8d5",
   "metadata": {},
   "outputs": [],
   "source": [
    "c['color'] = [ gi.split(\",\")[1] if len(gi.split(\",\"))>1 else None for gi in c['group'].values]"
   ]
  },
  {
   "cell_type": "code",
   "execution_count": null,
   "id": "58985232-9718-4d46-a4d6-bae6426c7c7b",
   "metadata": {},
   "outputs": [],
   "source": []
  },
  {
   "cell_type": "code",
   "execution_count": null,
   "id": "bde46245-d971-4da6-a337-54ca407560dc",
   "metadata": {},
   "outputs": [],
   "source": [
    "c.explore(column='color')"
   ]
  },
  {
   "cell_type": "code",
   "execution_count": null,
   "id": "2e52d975-5342-45ac-a9df-a8554f4e5eae",
   "metadata": {},
   "outputs": [],
   "source": []
  }
 ],
 "metadata": {
  "kernelspec": {
   "display_name": "earthdata",
   "language": "python",
   "name": "earthdata"
  },
  "language_info": {
   "codemirror_mode": {
    "name": "ipython",
    "version": 3
   },
   "file_extension": ".py",
   "mimetype": "text/x-python",
   "name": "python",
   "nbconvert_exporter": "python",
   "pygments_lexer": "ipython3",
   "version": "3.11.9"
  }
 },
 "nbformat": 4,
 "nbformat_minor": 5
}
