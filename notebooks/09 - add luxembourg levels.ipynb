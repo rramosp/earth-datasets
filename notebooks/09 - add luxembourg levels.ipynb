{
 "cells": [
  {
   "cell_type": "code",
   "execution_count": null,
   "id": "18ef7cda-f5be-48d1-8368-90d04efd636f",
   "metadata": {},
   "outputs": [],
   "source": [
    "import os\n",
    "import numpy as np\n",
    "import geopandas as gpd\n",
    "import pandas as pd\n",
    "from joblib import Parallel, delayed\n",
    "import shapely as sh"
   ]
  },
  {
   "cell_type": "code",
   "execution_count": null,
   "id": "07cd80ea-1747-4b83-b88d-ef09ce4d3e98",
   "metadata": {},
   "outputs": [],
   "source": [
    "chipsets_file = \"/opt/earthdata/chipsets-definitions.parquet\"\n",
    "basedir = \"/opt/earthdata/chipsets\"\n",
    "dataset = \"s1grd-2022\""
   ]
  },
  {
   "cell_type": "code",
   "execution_count": null,
   "id": "cc3a6640-9eaa-42ce-aaf1-df953f5a89e0",
   "metadata": {},
   "outputs": [],
   "source": [
    "cs = gpd.read_parquet(chipsets_file)\n",
    "cs.shape"
   ]
  },
  {
   "cell_type": "code",
   "execution_count": null,
   "id": "80a57293-5681-4045-9e27-c2250a4b44ad",
   "metadata": {},
   "outputs": [],
   "source": [
    "from shapely import wkt\n",
    "with open(\"../data/luxembourg.wkt\") as f:\n",
    "    lux = wkt.load(f)\n",
    "levels = {\n",
    "          'L0': lux,\n",
    "          'L1': lux.buffer(1),\n",
    "          'L2': lux.buffer(2),\n",
    "          'L3': lux.buffer(3),\n",
    "          'L4': lux.buffer(4),\n",
    "    \n",
    "         }"
   ]
  },
  {
   "cell_type": "code",
   "execution_count": null,
   "id": "2a1e1fe0-2bbc-4059-aa2c-58d3b5a6ae2d",
   "metadata": {},
   "outputs": [],
   "source": [
    "for k,v in levels.items():\n",
    "    with open(f\"../data/luxembourg_{k}.wkt\", \"w\") as f:\n",
    "        wkt.dump(v, f)"
   ]
  },
  {
   "cell_type": "code",
   "execution_count": null,
   "id": "1f63fda0-3e46-4d7b-8be7-b450edc84460",
   "metadata": {},
   "outputs": [],
   "source": [
    "all_levels = sh.ops.unary_union(list(levels.values()))\n",
    "luxc = cs[[gi.intersects(all_levels) for gi in cs.geometry]]\n",
    "luxc"
   ]
  },
  {
   "cell_type": "code",
   "execution_count": null,
   "id": "0075fd93-9382-4428-a06e-98253e4e6553",
   "metadata": {},
   "outputs": [],
   "source": []
  },
  {
   "cell_type": "code",
   "execution_count": null,
   "id": "bf37da48-a85a-41a7-a383-d8e8a4b049a8",
   "metadata": {
    "tags": []
   },
   "outputs": [],
   "source": [
    "def chiplevel(geom, levels):\n",
    "    for l in sorted(list(levels.keys())):\n",
    "        if levels[l].intersects(geom):\n",
    "            return l\n",
    "    return None\n",
    "\n",
    "for chipset_id in luxc.index:\n",
    "    \n",
    "    print (f\"adding levels to {chipset_id}\")\n",
    "    \n",
    "    # look for defs file\n",
    "    chipset_defs_file = [f for f in os.listdir(basedir) if chipset_id in f and f.endswith('.geojson')]\n",
    "    if len(chipset_defs_file)==0:\n",
    "        raise ValueError(f\"could not file defs file for {chipset_id}\")\n",
    "    elif len(chipset_defs_file)>1:\n",
    "        raise ValueError(f\"too many defs files for {chipset_id}\")\n",
    "\n",
    "    chipset_defs_file = chipset_defs_file[0]\n",
    "    chipset_defs_file = f\"{basedir}/{chipset_defs_file}\"\n",
    "    c = gpd.read_file(chipset_defs_file)\n",
    "\n",
    "    \n",
    "    # add level groups if they havent been added already\n",
    "    c['level'] = [chiplevel(gi, levels) for gi in c.geometry.values]\n",
    "    newgroups = []\n",
    "    for _, row in c.iterrows():\n",
    "        lgroups = row.group.split(\",\")\n",
    "        if row.level is not None and not row.level in lgroups:\n",
    "            g = \",\".join(lgroups + [row.level])  \n",
    "        else:\n",
    "            g = row.group\n",
    "        newgroups.append(g)\n",
    "    c['group'] = newgroups\n",
    "    del(c['level'])\n",
    "    c.to_file(chipset_defs_file, driver='GeoJSON')"
   ]
  },
  {
   "cell_type": "code",
   "execution_count": null,
   "id": "b98928ed-cc8f-488f-9b1c-28a839f2773c",
   "metadata": {},
   "outputs": [],
   "source": [
    "chipset_id = luxc.index[2]\n",
    "chipset_defs_file = [f for f in os.listdir(basedir) if chipset_id in f and f.endswith('.geojson')]\n",
    "if len(chipset_defs_file)==0:\n",
    "    raise ValueError(f\"could not file defs file for {chipset_id}\")\n",
    "elif len(chipset_defs_file)>1:\n",
    "    raise ValueError(f\"too many defs files for {chipset_id}\")\n",
    "\n",
    "chipset_defs_file = chipset_defs_file[0]\n",
    "chipset_defs_file = f\"{basedir}/{chipset_defs_file}\"\n",
    "c = gpd.read_file(chipset_defs_file)\n"
   ]
  },
  {
   "cell_type": "code",
   "execution_count": null,
   "id": "59976d2d-8641-45a1-8ca3-fe9066bbc8d5",
   "metadata": {},
   "outputs": [],
   "source": [
    "c['color'] = [ gi.split(\",\")[1] if len(gi.split(\",\"))>1 else None for gi in c['group'].values]"
   ]
  },
  {
   "cell_type": "code",
   "execution_count": null,
   "id": "58985232-9718-4d46-a4d6-bae6426c7c7b",
   "metadata": {},
   "outputs": [],
   "source": []
  },
  {
   "cell_type": "code",
   "execution_count": null,
   "id": "bde46245-d971-4da6-a337-54ca407560dc",
   "metadata": {},
   "outputs": [],
   "source": [
    "c.explore(column='color')"
   ]
  },
  {
   "cell_type": "code",
   "execution_count": null,
   "id": "2e52d975-5342-45ac-a9df-a8554f4e5eae",
   "metadata": {},
   "outputs": [],
   "source": []
  }
 ],
 "metadata": {
  "kernelspec": {
   "display_name": "earthdata",
   "language": "python",
   "name": "earthdata"
  },
  "language_info": {
   "codemirror_mode": {
    "name": "ipython",
    "version": 3
   },
   "file_extension": ".py",
   "mimetype": "text/x-python",
   "name": "python",
   "nbconvert_exporter": "python",
   "pygments_lexer": "ipython3",
   "version": "3.11.9"
  }
 },
 "nbformat": 4,
 "nbformat_minor": 5
}
